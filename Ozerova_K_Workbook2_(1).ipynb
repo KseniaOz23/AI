{
  "cells": [
    {
      "cell_type": "markdown",
      "id": "3d32c07a",
      "metadata": {
        "id": "3d32c07a"
      },
      "source": [
        "# Рабочая тетрадь 2"
      ]
    },
    
    {
      "cell_type": "markdown",
      "id": "62837f21",
      "metadata": {
        "id": "62837f21"
      },
      "source": [
        "# 1.3.1. Задание\n",
        "Создать 8x8 матрицу и заполнить её в шахматном порядке нулями и\n",
        "единицами."
      ]
    },
    {
      "cell_type": "code",
      "execution_count": null,
      "id": "70e0c52a",
      "metadata": {
        "id": "70e0c52a",
        "outputId": "062575ec-2cc6-4b09-98f1-1eca2b26b8cb"
      },
      "outputs": [
        {
          "name": "stdout",
          "output_type": "stream",
          "text": [
            "[[0. 1. 0. 1. 0. 1. 0. 1.]\n",
            " [1. 0. 1. 0. 1. 0. 1. 0.]\n",
            " [0. 1. 0. 1. 0. 1. 0. 1.]\n",
            " [1. 0. 1. 0. 1. 0. 1. 0.]\n",
            " [0. 1. 0. 1. 0. 1. 0. 1.]\n",
            " [1. 0. 1. 0. 1. 0. 1. 0.]\n",
            " [0. 1. 0. 1. 0. 1. 0. 1.]\n",
            " [1. 0. 1. 0. 1. 0. 1. 0.]]\n"
          ]
        }
      ],
      "source": [
        "import numpy as np\n",
        "\n",
        "A = np.zeros((8,8))\n",
        "A[1::2,::2] = 1\n",
        "A[::2,1::2] = 1\n",
        "print(A)"
      ]
    },
    {
      "cell_type": "markdown",
      "id": "32a2e44e",
      "metadata": {
        "id": "32a2e44e"
      },
      "source": [
        "# 1.3.2. Задание\n",
        "Создать 5x5 матрицу со значениями в строках от 0 до 4. Для создания\n",
        "необходимо использовать функцию arrange."
      ]
    },
    {
      "cell_type": "code",
      "execution_count": null,
      "id": "e308bd7d",
      "metadata": {
        "id": "e308bd7d",
        "outputId": "af926610-e13d-4c31-87e6-723afbd83fa3"
      },
      "outputs": [
        {
          "name": "stdout",
          "output_type": "stream",
          "text": [
            "[[0. 1. 2. 3. 4.]\n",
            " [0. 1. 2. 3. 4.]\n",
            " [0. 1. 2. 3. 4.]\n",
            " [0. 1. 2. 3. 4.]\n",
            " [0. 1. 2. 3. 4.]]\n"
          ]
        }
      ],
      "source": [
        "import numpy as np\n",
        "\n",
        "x=np.zeros((5,5))\n",
        "x+= np.arange(5)\n",
        "print(x)"
      ]
    },
    {
      "cell_type": "markdown",
      "id": "340749e1",
      "metadata": {
        "id": "340749e1"
      },
      "source": [
        "# 1.3.3. Задание\n",
        "Создать массив 3x3x3 со случайными значениями.\n"
      ]
    },
    {
      "cell_type": "code",
      "execution_count": null,
      "id": "65c2fa22",
      "metadata": {
        "id": "65c2fa22",
        "outputId": "401603dd-cfda-43de-893d-a02dd03a272f"
      },
      "outputs": [
        {
          "name": "stdout",
          "output_type": "stream",
          "text": [
            "[[[0.59839926 0.30503859 0.80743435]\n",
            "  [0.4576804  0.02611428 0.00612641]\n",
            "  [0.34562812 0.42138443 0.66879233]]\n",
            "\n",
            " [[0.6681481  0.98891329 0.80656344]\n",
            "  [0.72404165 0.81264861 0.09729036]\n",
            "  [0.05177839 0.99206116 0.87818215]]\n",
            "\n",
            " [[0.61306446 0.87132427 0.37197736]\n",
            "  [0.45048168 0.08166333 0.60017773]\n",
            "  [0.00622394 0.15594671 0.58227151]]]\n"
          ]
        }
      ],
      "source": [
        "import numpy as np\n",
        "\n",
        "A = np.random.random((3,3,3))\n",
        "print(A)"
      ]
    },
    {
      "cell_type": "markdown",
      "id": "1e6daa86",
      "metadata": {
        "id": "1e6daa86"
      },
      "source": [
        "# 1.3.4. Задание\n",
        "Создать матрицу с 0 внутри, и 1 на границах"
      ]
    },
    {
      "cell_type": "code",
      "execution_count": null,
      "id": "c638e68b",
      "metadata": {
        "id": "c638e68b",
        "outputId": "0182f881-d4ca-4b06-8bda-bfc21aec76bb"
      },
      "outputs": [
        {
          "name": "stdout",
          "output_type": "stream",
          "text": [
            "[[1. 1. 1. 1. 1.]\n",
            " [1. 0. 0. 0. 1.]\n",
            " [1. 0. 0. 0. 1.]\n",
            " [1. 0. 0. 0. 1.]\n",
            " [1. 1. 1. 1. 1.]]\n"
          ]
        }
      ],
      "source": [
        "import numpy as np\n",
        "\n",
        "A = np.ones((5,5))\n",
        "A[1:-1,1:-1] = 0\n",
        "print(A)"
      ]
    },
    {
      "cell_type": "markdown",
      "id": "85c5023f",
      "metadata": {
        "id": "85c5023f"
      },
      "source": [
        "# 1.3.5. Задание\n",
        "Создайте массив и отсортируйте его по убыванию."
      ]
    },
    {
      "cell_type": "code",
      "execution_count": null,
      "id": "cf1e35bb",
      "metadata": {
        "id": "cf1e35bb",
        "outputId": "c94a02df-edc9-4ed6-c0ea-dc4fca2a52f7"
      },
      "outputs": [
        {
          "name": "stdout",
          "output_type": "stream",
          "text": [
            "[ 3 10 11 12  2 10 11  8  3  9]\n",
            "[12 11 11 10 10  9  8  3  3  2]\n"
          ]
        }
      ],
      "source": [
        "import numpy as np\n",
        "\n",
        "arr = np.random.randint(1,15,10)\n",
        "print(arr)\n",
        "print(np.sort(arr)[::-1])"
      ]
    },
    {
      "cell_type": "markdown",
      "id": "a7d44df0",
      "metadata": {
        "id": "a7d44df0"
      },
      "source": [
        "# 2.3.1. Задание\n",
        "Найдитн евклидово расстояние между двумя Series (точками) a и b, не\n",
        "используя встроенную формулу.\n"
      ]
    },
    {
      "cell_type": "code",
      "execution_count": null,
      "id": "1a4d3f19",
      "metadata": {
        "id": "1a4d3f19",
        "outputId": "5c85b3ee-8e42-48c2-ac72-25703af14f12"
      },
      "outputs": [
        {
          "data": {
            "text/plain": [
              "3.4641016151377544"
            ]
          },
          "execution_count": 15,
          "metadata": {},
          "output_type": "execute_result"
        }
      ],
      "source": [
        "import pandas as pd\n",
        "\n",
        "a = pd.Series([2, 6, 3, 8])\n",
        "b = pd.Series([1, 9, 4, 7])\n",
        "\n",
        "sum((a - b)**2)**0.5"
      ]
    },
    {
      "cell_type": "markdown",
      "id": "693457b4",
      "metadata": {
        "id": "693457b4"
      },
      "source": [
        "# 2.3.2. Задание\n",
        "Найдите в Интернете ссылку на любой csv файл и сформируйте из него\n",
        "фрейм данных (например, коллекцию фреймов данных можно найти\n",
        "здесь: https://github.com/akmand/datasets)."
      ]
    },
    {
      "cell_type": "code",
      "execution_count": null,
      "id": "6fc678ab",
      "metadata": {
        "id": "6fc678ab",
        "outputId": "7d52f76e-ba18-43fc-f14c-c86505a0b8d4"
      },
      "outputs": [
        {
          "data": {
            "text/html": [
              "<div>\n",
              "<style scoped>\n",
              "    .dataframe tbody tr th:only-of-type {\n",
              "        vertical-align: middle;\n",
              "    }\n",
              "\n",
              "    .dataframe tbody tr th {\n",
              "        vertical-align: top;\n",
              "    }\n",
              "\n",
              "    .dataframe thead th {\n",
              "        text-align: right;\n",
              "    }\n",
              "</style>\n",
              "<table border=\"1\" class=\"dataframe\">\n",
              "  <thead>\n",
              "    <tr style=\"text-align: right;\">\n",
              "      <th></th>\n",
              "      <th>age</th>\n",
              "      <th>workclass</th>\n",
              "      <th>education_num</th>\n",
              "      <th>marital_status</th>\n",
              "      <th>occupation</th>\n",
              "      <th>relationship</th>\n",
              "      <th>race</th>\n",
              "      <th>gender</th>\n",
              "      <th>hours_per_week</th>\n",
              "      <th>native_country</th>\n",
              "      <th>capital</th>\n",
              "      <th>income_status</th>\n",
              "    </tr>\n",
              "  </thead>\n",
              "  <tbody>\n",
              "    <tr>\n",
              "      <th>0</th>\n",
              "      <td>39</td>\n",
              "      <td>State-gov</td>\n",
              "      <td>13</td>\n",
              "      <td>Never-married</td>\n",
              "      <td>Adm-clerical</td>\n",
              "      <td>Not-in-family</td>\n",
              "      <td>White</td>\n",
              "      <td>Male</td>\n",
              "      <td>40</td>\n",
              "      <td>United-States</td>\n",
              "      <td>2174</td>\n",
              "      <td>&lt;=50K</td>\n",
              "    </tr>\n",
              "    <tr>\n",
              "      <th>1</th>\n",
              "      <td>50</td>\n",
              "      <td>Self-emp-not-inc</td>\n",
              "      <td>13</td>\n",
              "      <td>Married-civ-spouse</td>\n",
              "      <td>Exec-managerial</td>\n",
              "      <td>Husband</td>\n",
              "      <td>White</td>\n",
              "      <td>Male</td>\n",
              "      <td>13</td>\n",
              "      <td>United-States</td>\n",
              "      <td>0</td>\n",
              "      <td>&lt;=50K</td>\n",
              "    </tr>\n",
              "    <tr>\n",
              "      <th>2</th>\n",
              "      <td>38</td>\n",
              "      <td>Private</td>\n",
              "      <td>9</td>\n",
              "      <td>Divorced</td>\n",
              "      <td>Handlers-cleaners</td>\n",
              "      <td>Not-in-family</td>\n",
              "      <td>White</td>\n",
              "      <td>Male</td>\n",
              "      <td>40</td>\n",
              "      <td>United-States</td>\n",
              "      <td>0</td>\n",
              "      <td>&lt;=50K</td>\n",
              "    </tr>\n",
              "    <tr>\n",
              "      <th>3</th>\n",
              "      <td>53</td>\n",
              "      <td>Private</td>\n",
              "      <td>7</td>\n",
              "      <td>Married-civ-spouse</td>\n",
              "      <td>Handlers-cleaners</td>\n",
              "      <td>Husband</td>\n",
              "      <td>Other</td>\n",
              "      <td>Male</td>\n",
              "      <td>40</td>\n",
              "      <td>United-States</td>\n",
              "      <td>0</td>\n",
              "      <td>&lt;=50K</td>\n",
              "    </tr>\n",
              "    <tr>\n",
              "      <th>4</th>\n",
              "      <td>28</td>\n",
              "      <td>Private</td>\n",
              "      <td>13</td>\n",
              "      <td>Married-civ-spouse</td>\n",
              "      <td>Prof-specialty</td>\n",
              "      <td>Wife</td>\n",
              "      <td>Other</td>\n",
              "      <td>Female</td>\n",
              "      <td>40</td>\n",
              "      <td>Other</td>\n",
              "      <td>0</td>\n",
              "      <td>&lt;=50K</td>\n",
              "    </tr>\n",
              "  </tbody>\n",
              "</table>\n",
              "</div>"
            ],
            "text/plain": [
              "   age         workclass  education_num      marital_status  \\\n",
              "0   39         State-gov             13       Never-married   \n",
              "1   50  Self-emp-not-inc             13  Married-civ-spouse   \n",
              "2   38           Private              9            Divorced   \n",
              "3   53           Private              7  Married-civ-spouse   \n",
              "4   28           Private             13  Married-civ-spouse   \n",
              "\n",
              "          occupation   relationship   race  gender  hours_per_week  \\\n",
              "0       Adm-clerical  Not-in-family  White    Male              40   \n",
              "1    Exec-managerial        Husband  White    Male              13   \n",
              "2  Handlers-cleaners  Not-in-family  White    Male              40   \n",
              "3  Handlers-cleaners        Husband  Other    Male              40   \n",
              "4     Prof-specialty           Wife  Other  Female              40   \n",
              "\n",
              "  native_country  capital income_status  \n",
              "0  United-States     2174         <=50K  \n",
              "1  United-States        0         <=50K  \n",
              "2  United-States        0         <=50K  \n",
              "3  United-States        0         <=50K  \n",
              "4          Other        0         <=50K  "
            ]
          },
          "execution_count": 17,
          "metadata": {},
          "output_type": "execute_result"
        }
      ],
      "source": [
        "import pandas as pd\n",
        "\n",
        "url = 'https://raw.githubusercontent.com/akmand/datasets/main/adult.csv'\n",
        "dataframe = pd.read_csv(url)\n",
        "dataframe.head(5)"
      ]
    },
    {
      "cell_type": "markdown",
      "id": "92954feb",
      "metadata": {
        "id": "92954feb"
      },
      "source": [
        "# 2.3.3. Задание\n",
        "Проделайте с получившемся из предыдущего задания фреймом данных\n",
        "те же действия, что и в примерах 2.2.5-2.2.7."
      ]
    },
    {
      "cell_type": "code",
      "execution_count": null,
      "id": "9eee1405",
      "metadata": {
        "id": "9eee1405",
        "outputId": "9060188b-b763-4945-fcf9-9a5e9013c70a"
      },
      "outputs": [
        {
          "data": {
            "text/html": [
              "<div>\n",
              "<style scoped>\n",
              "    .dataframe tbody tr th:only-of-type {\n",
              "        vertical-align: middle;\n",
              "    }\n",
              "\n",
              "    .dataframe tbody tr th {\n",
              "        vertical-align: top;\n",
              "    }\n",
              "\n",
              "    .dataframe thead th {\n",
              "        text-align: right;\n",
              "    }\n",
              "</style>\n",
              "<table border=\"1\" class=\"dataframe\">\n",
              "  <thead>\n",
              "    <tr style=\"text-align: right;\">\n",
              "      <th></th>\n",
              "      <th>age</th>\n",
              "      <th>education_num</th>\n",
              "      <th>hours_per_week</th>\n",
              "      <th>capital</th>\n",
              "    </tr>\n",
              "  </thead>\n",
              "  <tbody>\n",
              "    <tr>\n",
              "      <th>count</th>\n",
              "      <td>45222.000000</td>\n",
              "      <td>45222.000000</td>\n",
              "      <td>45222.000000</td>\n",
              "      <td>45222.000000</td>\n",
              "    </tr>\n",
              "    <tr>\n",
              "      <th>mean</th>\n",
              "      <td>38.547941</td>\n",
              "      <td>10.118460</td>\n",
              "      <td>40.938017</td>\n",
              "      <td>1012.834925</td>\n",
              "    </tr>\n",
              "    <tr>\n",
              "      <th>std</th>\n",
              "      <td>13.217870</td>\n",
              "      <td>2.552881</td>\n",
              "      <td>12.007508</td>\n",
              "      <td>7530.315380</td>\n",
              "    </tr>\n",
              "    <tr>\n",
              "      <th>min</th>\n",
              "      <td>17.000000</td>\n",
              "      <td>1.000000</td>\n",
              "      <td>1.000000</td>\n",
              "      <td>-4356.000000</td>\n",
              "    </tr>\n",
              "    <tr>\n",
              "      <th>25%</th>\n",
              "      <td>28.000000</td>\n",
              "      <td>9.000000</td>\n",
              "      <td>40.000000</td>\n",
              "      <td>0.000000</td>\n",
              "    </tr>\n",
              "    <tr>\n",
              "      <th>50%</th>\n",
              "      <td>37.000000</td>\n",
              "      <td>10.000000</td>\n",
              "      <td>40.000000</td>\n",
              "      <td>0.000000</td>\n",
              "    </tr>\n",
              "    <tr>\n",
              "      <th>75%</th>\n",
              "      <td>47.000000</td>\n",
              "      <td>13.000000</td>\n",
              "      <td>45.000000</td>\n",
              "      <td>0.000000</td>\n",
              "    </tr>\n",
              "    <tr>\n",
              "      <th>max</th>\n",
              "      <td>90.000000</td>\n",
              "      <td>16.000000</td>\n",
              "      <td>99.000000</td>\n",
              "      <td>99999.000000</td>\n",
              "    </tr>\n",
              "  </tbody>\n",
              "</table>\n",
              "</div>"
            ],
            "text/plain": [
              "                age  education_num  hours_per_week       capital\n",
              "count  45222.000000   45222.000000    45222.000000  45222.000000\n",
              "mean      38.547941      10.118460       40.938017   1012.834925\n",
              "std       13.217870       2.552881       12.007508   7530.315380\n",
              "min       17.000000       1.000000        1.000000  -4356.000000\n",
              "25%       28.000000       9.000000       40.000000      0.000000\n",
              "50%       37.000000      10.000000       40.000000      0.000000\n",
              "75%       47.000000      13.000000       45.000000      0.000000\n",
              "max       90.000000      16.000000       99.000000  99999.000000"
            ]
          },
          "execution_count": 4,
          "metadata": {},
          "output_type": "execute_result"
        }
      ],
      "source": [
        "import pandas as pd\n",
        "\n",
        "url = 'https://raw.githubusercontent.com/akmand/datasets/main/adult.csv'\n",
        "dataframe = pd.read_csv(url)\n",
        "\n",
        "dataframe.head(2)\n",
        "dataframe.tail(3)\n",
        "dataframe.shape\n",
        "dataframe.describe()"
      ]
    },
    {
      "cell_type": "code",
      "execution_count": null,
      "id": "ff1ff1f1",
      "metadata": {
        "id": "ff1ff1f1",
        "outputId": "6561c8cb-33b5-4592-81e0-b49911b55c25"
      },
      "outputs": [
        {
          "data": {
            "text/html": [
              "<div>\n",
              "<style scoped>\n",
              "    .dataframe tbody tr th:only-of-type {\n",
              "        vertical-align: middle;\n",
              "    }\n",
              "\n",
              "    .dataframe tbody tr th {\n",
              "        vertical-align: top;\n",
              "    }\n",
              "\n",
              "    .dataframe thead th {\n",
              "        text-align: right;\n",
              "    }\n",
              "</style>\n",
              "<table border=\"1\" class=\"dataframe\">\n",
              "  <thead>\n",
              "    <tr style=\"text-align: right;\">\n",
              "      <th></th>\n",
              "      <th>age</th>\n",
              "      <th>workclass</th>\n",
              "      <th>education_num</th>\n",
              "      <th>marital_status</th>\n",
              "      <th>occupation</th>\n",
              "      <th>relationship</th>\n",
              "      <th>race</th>\n",
              "      <th>gender</th>\n",
              "      <th>hours_per_week</th>\n",
              "      <th>native_country</th>\n",
              "      <th>capital</th>\n",
              "      <th>income_status</th>\n",
              "    </tr>\n",
              "  </thead>\n",
              "  <tbody>\n",
              "    <tr>\n",
              "      <th>1</th>\n",
              "      <td>50</td>\n",
              "      <td>Self-emp-not-inc</td>\n",
              "      <td>13</td>\n",
              "      <td>Married-civ-spouse</td>\n",
              "      <td>Exec-managerial</td>\n",
              "      <td>Husband</td>\n",
              "      <td>White</td>\n",
              "      <td>Male</td>\n",
              "      <td>13</td>\n",
              "      <td>United-States</td>\n",
              "      <td>0</td>\n",
              "      <td>&lt;=50K</td>\n",
              "    </tr>\n",
              "    <tr>\n",
              "      <th>2</th>\n",
              "      <td>38</td>\n",
              "      <td>Private</td>\n",
              "      <td>9</td>\n",
              "      <td>Divorced</td>\n",
              "      <td>Handlers-cleaners</td>\n",
              "      <td>Not-in-family</td>\n",
              "      <td>White</td>\n",
              "      <td>Male</td>\n",
              "      <td>40</td>\n",
              "      <td>United-States</td>\n",
              "      <td>0</td>\n",
              "      <td>&lt;=50K</td>\n",
              "    </tr>\n",
              "    <tr>\n",
              "      <th>3</th>\n",
              "      <td>53</td>\n",
              "      <td>Private</td>\n",
              "      <td>7</td>\n",
              "      <td>Married-civ-spouse</td>\n",
              "      <td>Handlers-cleaners</td>\n",
              "      <td>Husband</td>\n",
              "      <td>Other</td>\n",
              "      <td>Male</td>\n",
              "      <td>40</td>\n",
              "      <td>United-States</td>\n",
              "      <td>0</td>\n",
              "      <td>&lt;=50K</td>\n",
              "    </tr>\n",
              "  </tbody>\n",
              "</table>\n",
              "</div>"
            ],
            "text/plain": [
              "   age         workclass  education_num      marital_status  \\\n",
              "1   50  Self-emp-not-inc             13  Married-civ-spouse   \n",
              "2   38           Private              9            Divorced   \n",
              "3   53           Private              7  Married-civ-spouse   \n",
              "\n",
              "          occupation   relationship   race gender  hours_per_week  \\\n",
              "1    Exec-managerial        Husband  White   Male              13   \n",
              "2  Handlers-cleaners  Not-in-family  White   Male              40   \n",
              "3  Handlers-cleaners        Husband  Other   Male              40   \n",
              "\n",
              "  native_country  capital income_status  \n",
              "1  United-States        0         <=50K  \n",
              "2  United-States        0         <=50K  \n",
              "3  United-States        0         <=50K  "
            ]
          },
          "execution_count": 5,
          "metadata": {},
          "output_type": "execute_result"
        }
      ],
      "source": [
        "dataframe.iloc[1:4]"
      ]
    },
    {
      "cell_type": "code",
      "execution_count": null,
      "id": "2c77c4eb",
      "metadata": {
        "id": "2c77c4eb",
        "outputId": "15ff5630-83cd-4309-d98c-eb23e23af717"
      },
      "outputs": [
        {
          "data": {
            "text/html": [
              "<div>\n",
              "<style scoped>\n",
              "    .dataframe tbody tr th:only-of-type {\n",
              "        vertical-align: middle;\n",
              "    }\n",
              "\n",
              "    .dataframe tbody tr th {\n",
              "        vertical-align: top;\n",
              "    }\n",
              "\n",
              "    .dataframe thead th {\n",
              "        text-align: right;\n",
              "    }\n",
              "</style>\n",
              "<table border=\"1\" class=\"dataframe\">\n",
              "  <thead>\n",
              "    <tr style=\"text-align: right;\">\n",
              "      <th></th>\n",
              "      <th>age</th>\n",
              "      <th>workclass</th>\n",
              "      <th>education_num</th>\n",
              "      <th>marital_status</th>\n",
              "      <th>occupation</th>\n",
              "      <th>relationship</th>\n",
              "      <th>race</th>\n",
              "      <th>gender</th>\n",
              "      <th>hours_per_week</th>\n",
              "      <th>native_country</th>\n",
              "      <th>capital</th>\n",
              "      <th>income_status</th>\n",
              "    </tr>\n",
              "  </thead>\n",
              "  <tbody>\n",
              "    <tr>\n",
              "      <th>4</th>\n",
              "      <td>28</td>\n",
              "      <td>Private</td>\n",
              "      <td>13</td>\n",
              "      <td>Married-civ-spouse</td>\n",
              "      <td>Prof-specialty</td>\n",
              "      <td>Wife</td>\n",
              "      <td>Other</td>\n",
              "      <td>Female</td>\n",
              "      <td>40</td>\n",
              "      <td>Other</td>\n",
              "      <td>0</td>\n",
              "      <td>&lt;=50K</td>\n",
              "    </tr>\n",
              "    <tr>\n",
              "      <th>5</th>\n",
              "      <td>37</td>\n",
              "      <td>Private</td>\n",
              "      <td>14</td>\n",
              "      <td>Married-civ-spouse</td>\n",
              "      <td>Exec-managerial</td>\n",
              "      <td>Wife</td>\n",
              "      <td>White</td>\n",
              "      <td>Female</td>\n",
              "      <td>40</td>\n",
              "      <td>United-States</td>\n",
              "      <td>0</td>\n",
              "      <td>&lt;=50K</td>\n",
              "    </tr>\n",
              "    <tr>\n",
              "      <th>6</th>\n",
              "      <td>49</td>\n",
              "      <td>Private</td>\n",
              "      <td>5</td>\n",
              "      <td>Married-spouse-absent</td>\n",
              "      <td>Other-service</td>\n",
              "      <td>Not-in-family</td>\n",
              "      <td>Other</td>\n",
              "      <td>Female</td>\n",
              "      <td>16</td>\n",
              "      <td>Other</td>\n",
              "      <td>0</td>\n",
              "      <td>&lt;=50K</td>\n",
              "    </tr>\n",
              "    <tr>\n",
              "      <th>8</th>\n",
              "      <td>31</td>\n",
              "      <td>Private</td>\n",
              "      <td>14</td>\n",
              "      <td>Never-married</td>\n",
              "      <td>Prof-specialty</td>\n",
              "      <td>Not-in-family</td>\n",
              "      <td>White</td>\n",
              "      <td>Female</td>\n",
              "      <td>50</td>\n",
              "      <td>United-States</td>\n",
              "      <td>14084</td>\n",
              "      <td>&gt;50K</td>\n",
              "    </tr>\n",
              "    <tr>\n",
              "      <th>12</th>\n",
              "      <td>23</td>\n",
              "      <td>Private</td>\n",
              "      <td>13</td>\n",
              "      <td>Never-married</td>\n",
              "      <td>Adm-clerical</td>\n",
              "      <td>Own-child</td>\n",
              "      <td>White</td>\n",
              "      <td>Female</td>\n",
              "      <td>30</td>\n",
              "      <td>United-States</td>\n",
              "      <td>0</td>\n",
              "      <td>&lt;=50K</td>\n",
              "    </tr>\n",
              "  </tbody>\n",
              "</table>\n",
              "</div>"
            ],
            "text/plain": [
              "    age workclass  education_num         marital_status       occupation  \\\n",
              "4    28   Private             13     Married-civ-spouse   Prof-specialty   \n",
              "5    37   Private             14     Married-civ-spouse  Exec-managerial   \n",
              "6    49   Private              5  Married-spouse-absent    Other-service   \n",
              "8    31   Private             14          Never-married   Prof-specialty   \n",
              "12   23   Private             13          Never-married     Adm-clerical   \n",
              "\n",
              "     relationship   race  gender  hours_per_week native_country  capital  \\\n",
              "4            Wife  Other  Female              40          Other        0   \n",
              "5            Wife  White  Female              40  United-States        0   \n",
              "6   Not-in-family  Other  Female              16          Other        0   \n",
              "8   Not-in-family  White  Female              50  United-States    14084   \n",
              "12      Own-child  White  Female              30  United-States        0   \n",
              "\n",
              "   income_status  \n",
              "4          <=50K  \n",
              "5          <=50K  \n",
              "6          <=50K  \n",
              "8           >50K  \n",
              "12         <=50K  "
            ]
          },
          "execution_count": 6,
          "metadata": {},
          "output_type": "execute_result"
        }
      ],
      "source": [
        "dataframe[dataframe['gender'] == 'Female'].head(5)"
      ]
    },
    {
      "cell_type": "markdown",
      "id": "0767b9a4",
      "metadata": {
        "id": "0767b9a4"
      },
      "source": [
        "# 3.3.2. Задание\n",
        "Загрузить фрейм данных по ссылке:\n",
        "https://raw.githubusercontent.com/akmand/datasets/master/iris.csv.\n",
        "Необходимо выполнить нормализацию первого числового признака\n",
        "(sepal_length_cm) с использованием минимаксного преобразования, а\n",
        "второго (sepal_width_cm) с задействованием z-масштабирования."
      ]
    },
    {
      "cell_type": "code",
      "execution_count": null,
      "id": "21b9cd6d",
      "metadata": {
        "id": "21b9cd6d",
        "outputId": "8926333e-f433-4c45-c39f-e05e3d03dca4"
      },
      "outputs": [
        {
          "data": {
            "text/html": [
              "<div>\n",
              "<style scoped>\n",
              "    .dataframe tbody tr th:only-of-type {\n",
              "        vertical-align: middle;\n",
              "    }\n",
              "\n",
              "    .dataframe tbody tr th {\n",
              "        vertical-align: top;\n",
              "    }\n",
              "\n",
              "    .dataframe thead th {\n",
              "        text-align: right;\n",
              "    }\n",
              "</style>\n",
              "<table border=\"1\" class=\"dataframe\">\n",
              "  <thead>\n",
              "    <tr style=\"text-align: right;\">\n",
              "      <th></th>\n",
              "      <th>sepal_length_cm</th>\n",
              "      <th>sepal_width_cm</th>\n",
              "      <th>petal_length_cm</th>\n",
              "      <th>petal_width_cm</th>\n",
              "      <th>species</th>\n",
              "    </tr>\n",
              "  </thead>\n",
              "  <tbody>\n",
              "    <tr>\n",
              "      <th>0</th>\n",
              "      <td>0.222222</td>\n",
              "      <td>1.032057</td>\n",
              "      <td>1.4</td>\n",
              "      <td>0.2</td>\n",
              "      <td>setosa</td>\n",
              "    </tr>\n",
              "    <tr>\n",
              "      <th>1</th>\n",
              "      <td>0.166667</td>\n",
              "      <td>-0.124958</td>\n",
              "      <td>1.4</td>\n",
              "      <td>0.2</td>\n",
              "      <td>setosa</td>\n",
              "    </tr>\n",
              "    <tr>\n",
              "      <th>2</th>\n",
              "      <td>0.111111</td>\n",
              "      <td>0.337848</td>\n",
              "      <td>1.3</td>\n",
              "      <td>0.2</td>\n",
              "      <td>setosa</td>\n",
              "    </tr>\n",
              "    <tr>\n",
              "      <th>3</th>\n",
              "      <td>0.083333</td>\n",
              "      <td>0.106445</td>\n",
              "      <td>1.5</td>\n",
              "      <td>0.2</td>\n",
              "      <td>setosa</td>\n",
              "    </tr>\n",
              "    <tr>\n",
              "      <th>4</th>\n",
              "      <td>0.194444</td>\n",
              "      <td>1.263460</td>\n",
              "      <td>1.4</td>\n",
              "      <td>0.2</td>\n",
              "      <td>setosa</td>\n",
              "    </tr>\n",
              "    <tr>\n",
              "      <th>...</th>\n",
              "      <td>...</td>\n",
              "      <td>...</td>\n",
              "      <td>...</td>\n",
              "      <td>...</td>\n",
              "      <td>...</td>\n",
              "    </tr>\n",
              "    <tr>\n",
              "      <th>145</th>\n",
              "      <td>0.666667</td>\n",
              "      <td>-0.124958</td>\n",
              "      <td>5.2</td>\n",
              "      <td>2.3</td>\n",
              "      <td>virginica</td>\n",
              "    </tr>\n",
              "    <tr>\n",
              "      <th>146</th>\n",
              "      <td>0.555556</td>\n",
              "      <td>-1.281972</td>\n",
              "      <td>5.0</td>\n",
              "      <td>1.9</td>\n",
              "      <td>virginica</td>\n",
              "    </tr>\n",
              "    <tr>\n",
              "      <th>147</th>\n",
              "      <td>0.611111</td>\n",
              "      <td>-0.124958</td>\n",
              "      <td>5.2</td>\n",
              "      <td>2.0</td>\n",
              "      <td>virginica</td>\n",
              "    </tr>\n",
              "    <tr>\n",
              "      <th>148</th>\n",
              "      <td>0.527778</td>\n",
              "      <td>0.800654</td>\n",
              "      <td>5.4</td>\n",
              "      <td>2.3</td>\n",
              "      <td>virginica</td>\n",
              "    </tr>\n",
              "    <tr>\n",
              "      <th>149</th>\n",
              "      <td>0.444444</td>\n",
              "      <td>-0.124958</td>\n",
              "      <td>5.1</td>\n",
              "      <td>1.8</td>\n",
              "      <td>virginica</td>\n",
              "    </tr>\n",
              "  </tbody>\n",
              "</table>\n",
              "<p>150 rows × 5 columns</p>\n",
              "</div>"
            ],
            "text/plain": [
              "     sepal_length_cm  sepal_width_cm  petal_length_cm  petal_width_cm  \\\n",
              "0           0.222222        1.032057              1.4             0.2   \n",
              "1           0.166667       -0.124958              1.4             0.2   \n",
              "2           0.111111        0.337848              1.3             0.2   \n",
              "3           0.083333        0.106445              1.5             0.2   \n",
              "4           0.194444        1.263460              1.4             0.2   \n",
              "..               ...             ...              ...             ...   \n",
              "145         0.666667       -0.124958              5.2             2.3   \n",
              "146         0.555556       -1.281972              5.0             1.9   \n",
              "147         0.611111       -0.124958              5.2             2.0   \n",
              "148         0.527778        0.800654              5.4             2.3   \n",
              "149         0.444444       -0.124958              5.1             1.8   \n",
              "\n",
              "       species  \n",
              "0       setosa  \n",
              "1       setosa  \n",
              "2       setosa  \n",
              "3       setosa  \n",
              "4       setosa  \n",
              "..         ...  \n",
              "145  virginica  \n",
              "146  virginica  \n",
              "147  virginica  \n",
              "148  virginica  \n",
              "149  virginica  \n",
              "\n",
              "[150 rows x 5 columns]"
            ]
          },
          "execution_count": 27,
          "metadata": {},
          "output_type": "execute_result"
        }
      ],
      "source": [
        "import pandas as pd\n",
        "from sklearn.preprocessing import MinMaxScaler\n",
        "from sklearn.preprocessing import StandardScaler\n",
        "\n",
        "# создание фрейма данных\n",
        "url = 'https://raw.githubusercontent.com/akmand/datasets/master/iris.csv'\n",
        "dataframe = pd.read_csv(url)\n",
        "# нормализация первого числового признака (sepal_length_cm) с использованием минимаксного преобразования\n",
        "scaler1 = MinMaxScaler()\n",
        "dataframe[['sepal_length_cm']] = scaler1.fit_transform(dataframe[['sepal_length_cm']])\n",
        "# нормализация второго числового признака (sepal_width_cm) с задействованием z-масштабирования\n",
        "scaler2 = StandardScaler()\n",
        "dataframe[['sepal_width_cm']] = scaler2.fit_transform(dataframe[['sepal_width_cm']])\n",
        "\n",
        "dataframe"
      ]
    }
  ],
  "metadata": {
    "kernelspec": {
      "display_name": "Python 3 (ipykernel)",
      "language": "python",
      "name": "python3"
    },
    "language_info": {
      "codemirror_mode": {
        "name": "ipython",
        "version": 3
      },
      "file_extension": ".py",
      "mimetype": "text/x-python",
      "name": "python",
      "nbconvert_exporter": "python",
      "pygments_lexer": "ipython3",
      "version": "3.11.5"
    },
    "colab": {
      "provenance": []
    }
  },
  "nbformat": 4,
  "nbformat_minor": 5
}
